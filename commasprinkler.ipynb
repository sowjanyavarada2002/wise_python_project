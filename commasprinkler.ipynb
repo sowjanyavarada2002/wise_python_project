{
 "cells": [
  {
   "cell_type": "code",
   "execution_count": 1,
   "id": "ff937f1a",
   "metadata": {},
   "outputs": [
    {
     "name": "stdout",
     "output_type": "stream",
     "text": [
      "enter $(dollar) between two different sentences : please sit spot. sit spot, sit. spot here now here.$one, two. one tree. four tree. four four. five four. six five.\n",
      "\n",
      " Input: please sit spot. sit spot, sit. spot here now here. \n",
      "Output: please, sit spot. sit spot, sit. spot, here now, here. \n",
      "\n",
      "\n",
      " Input: one, two. one tree. four tree. four four. five four. six five. \n",
      "Output: one, two. one, tree. four, tree. four, four. five, four. six five. \n",
      "\n"
     ]
    }
   ],
   "source": [
    "sentence_container = input(\"enter $(dollar) between two different sentences : \").split(\"$\")\n",
    "\n",
    "def each_word_and_its_retainer(sentence):\n",
    "    sentence = iter(sentence)\n",
    "    curr_word = next(sentence)\n",
    "    for next_word in sentence:\n",
    "        yield (curr_word, next_word)\n",
    "        curr_word = next_word\n",
    "    yield (curr_word, '')\n",
    "    \n",
    "for sentence in sentence_container:\n",
    "    prev_sent = ''\n",
    "    curr_sent = sentence\n",
    "    while prev_sent != curr_sent:\n",
    "        prev_sent = curr_sent\n",
    "        splitted_sent = curr_sent.split()\n",
    "        rule_1_words = set(\n",
    "            retainer.rstrip(',.') \n",
    "            for (curr_word, retainer) in each_word_and_its_retainer(splitted_sent) \n",
    "            if curr_word.endswith(',')\n",
    "        )\n",
    "        rule_2_words = set(\n",
    "            curr_word.rstrip(',.') \n",
    "            for curr_word in splitted_sent \n",
    "            if curr_word.endswith(',')\n",
    "        )\n",
    "        \n",
    "        def alter_words(prev_line):\n",
    "            for curr_word, retainer in each_word_and_its_retainer(prev_line):\n",
    "                if curr_word.endswith('.'):\n",
    "                    yield curr_word\n",
    "                else:\n",
    "                    if retainer.rstrip(',.') in rule_1_words or curr_word.rstrip(',.') in rule_2_words:\n",
    "                        yield f'{curr_word.rstrip(\",.\")},'\n",
    "                    else:\n",
    "                        yield curr_word\n",
    "    \n",
    "        curr_sent = ' '.join(alter_words(splitted_sent))\n",
    "        \n",
    "    print('\\n','Input:', sentence, '\\nOutput:', curr_sent,'\\n')"
   ]
  }
 ],
 "metadata": {
  "kernelspec": {
   "display_name": "Python 3",
   "language": "python",
   "name": "python3"
  },
  "language_info": {
   "codemirror_mode": {
    "name": "ipython",
    "version": 3
   },
   "file_extension": ".py",
   "mimetype": "text/x-python",
   "name": "python",
   "nbconvert_exporter": "python",
   "pygments_lexer": "ipython3",
   "version": "3.8.8"
  }
 },
 "nbformat": 4,
 "nbformat_minor": 5
}
